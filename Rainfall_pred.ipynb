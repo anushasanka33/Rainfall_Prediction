{
  "cells": [
    {
      "cell_type": "markdown",
      "metadata": {
        "id": "view-in-github",
        "colab_type": "text"
      },
      "source": [
        "<a href=\"https://colab.research.google.com/github/anushasanka33/Rainfall_Prediction/blob/main/Rainfall_pred.ipynb\" target=\"_parent\"><img src=\"https://colab.research.google.com/assets/colab-badge.svg\" alt=\"Open In Colab\"/></a>"
      ]
    },
    {
      "cell_type": "code",
      "execution_count": null,
      "metadata": {
        "id": "n77HgjqSKA-G"
      },
      "outputs": [],
      "source": [
        "import pandas as pd\n",
        "import numpy as np\n",
        "import matplotlib.pyplot as plt\n",
        "%matplotlib inline\n",
        "import seaborn as sns\n",
        "from sklearn.metrics import accuracy_score, recall_score, ConfusionMatrixDisplay, classification_report, auc, precision_score\n",
        "from sklearn.model_selection import train_test_split\n",
        "import warnings\n",
        "warnings.filterwarnings(\"ignore\")"
      ]
    },
    {
      "cell_type": "code",
      "execution_count": null,
      "metadata": {
        "id": "2SRDpRF9qhVI"
      },
      "outputs": [],
      "source": [
        "data = pd.read_csv('rainfall_aus.csv')"
      ]
    },
    {
      "cell_type": "code",
      "execution_count": null,
      "metadata": {
        "colab": {
          "base_uri": "https://localhost:8080/",
          "height": 615
        },
        "id": "vYwrbRPYPZll",
        "outputId": "fd71bf33-ee49-4c9f-c28c-c6b724b38e97"
      },
      "outputs": [
        {
          "output_type": "execute_result",
          "data": {
            "text/plain": [
              "                MinTemp   MaxTemp  Rainfall  Evaporation  Sunshine  \\\n",
              "MinTemp        1.000000  0.736559  0.103938     0.466993  0.072586   \n",
              "MaxTemp        0.736559  1.000000 -0.074997     0.587932  0.470156   \n",
              "Rainfall       0.103938 -0.074997  1.000000    -0.064351 -0.227549   \n",
              "Evaporation    0.466993  0.587932 -0.064351     1.000000  0.365602   \n",
              "Sunshine       0.072586  0.470156 -0.227549     0.365602  1.000000   \n",
              "WindGustSpeed  0.177397  0.067591  0.133651     0.203021 -0.034750   \n",
              "WindSpeed9am   0.175049  0.014433  0.087330     0.193084  0.005499   \n",
              "WindSpeed3pm   0.175166  0.050285  0.057878     0.129400  0.053834   \n",
              "Humidity9am   -0.232877 -0.504103  0.224414    -0.504092 -0.490819   \n",
              "Humidity3pm    0.006082 -0.508860  0.255771    -0.390243 -0.629130   \n",
              "Pressure9am   -0.450954 -0.332044 -0.168148    -0.270362  0.041970   \n",
              "Pressure3pm   -0.461280 -0.427154 -0.126526    -0.293581 -0.019719   \n",
              "Cloud9am       0.078773 -0.289353  0.198541    -0.183793 -0.675323   \n",
              "Cloud3pm       0.021557 -0.277944  0.172409    -0.182618 -0.703930   \n",
              "Temp9am        0.901820  0.887212  0.011187     0.545115  0.291188   \n",
              "Temp3pm        0.708918  0.984505 -0.079662     0.572893  0.490501   \n",
              "\n",
              "               WindGustSpeed  WindSpeed9am  WindSpeed3pm  Humidity9am  \\\n",
              "MinTemp             0.177397      0.175049      0.175166    -0.232877   \n",
              "MaxTemp             0.067591      0.014433      0.050285    -0.504103   \n",
              "Rainfall            0.133651      0.087330      0.057878     0.224414   \n",
              "Evaporation         0.203021      0.193084      0.129400    -0.504092   \n",
              "Sunshine           -0.034750      0.005499      0.053834    -0.490819   \n",
              "WindGustSpeed       1.000000      0.605291      0.686302    -0.215049   \n",
              "WindSpeed9am        0.605291      1.000000      0.519539    -0.270841   \n",
              "WindSpeed3pm        0.686302      0.519539      1.000000    -0.145510   \n",
              "Humidity9am        -0.215049     -0.270841     -0.145510     1.000000   \n",
              "Humidity3pm        -0.026293     -0.031587      0.016468     0.666965   \n",
              "Pressure9am        -0.458712     -0.228710     -0.296319     0.139409   \n",
              "Pressure3pm        -0.413717     -0.175782     -0.255404     0.186832   \n",
              "Cloud9am            0.071789      0.025156      0.053373     0.452274   \n",
              "Cloud3pm            0.109144      0.054603      0.025397     0.357379   \n",
              "Temp9am             0.150125      0.128525      0.163015    -0.471340   \n",
              "Temp3pm             0.032726      0.004555      0.027760    -0.498399   \n",
              "\n",
              "               Humidity3pm  Pressure9am  Pressure3pm  Cloud9am  Cloud3pm  \\\n",
              "MinTemp           0.006082    -0.450954    -0.461280  0.078773  0.021557   \n",
              "MaxTemp          -0.508860    -0.332044    -0.427154 -0.289353 -0.277944   \n",
              "Rainfall          0.255771    -0.168148    -0.126526  0.198541  0.172409   \n",
              "Evaporation      -0.390243    -0.270362    -0.293581 -0.183793 -0.182618   \n",
              "Sunshine         -0.629130     0.041970    -0.019719 -0.675323 -0.703930   \n",
              "WindGustSpeed    -0.026293    -0.458712    -0.413717  0.071789  0.109144   \n",
              "WindSpeed9am     -0.031587    -0.228710    -0.175782  0.025156  0.054603   \n",
              "WindSpeed3pm      0.016468    -0.296319    -0.255404  0.053373  0.025397   \n",
              "Humidity9am       0.666965     0.139409     0.186832  0.452274  0.357379   \n",
              "Humidity3pm       1.000000    -0.027580     0.051963  0.517100  0.523125   \n",
              "Pressure9am      -0.027580     1.000000     0.961324 -0.129843 -0.147840   \n",
              "Pressure3pm       0.051963     0.961324     1.000000 -0.060813 -0.084763   \n",
              "Cloud9am          0.517100    -0.129843    -0.060813  1.000000  0.603588   \n",
              "Cloud3pm          0.523125    -0.147840    -0.084763  0.603588  1.000000   \n",
              "Temp9am          -0.221024    -0.422533    -0.470170 -0.136937 -0.126703   \n",
              "Temp3pm          -0.557838    -0.286754    -0.389535 -0.302046 -0.317430   \n",
              "\n",
              "                Temp9am   Temp3pm  \n",
              "MinTemp        0.901820  0.708918  \n",
              "MaxTemp        0.887212  0.984505  \n",
              "Rainfall       0.011187 -0.079662  \n",
              "Evaporation    0.545115  0.572893  \n",
              "Sunshine       0.291188  0.490501  \n",
              "WindGustSpeed  0.150125  0.032726  \n",
              "WindSpeed9am   0.128525  0.004555  \n",
              "WindSpeed3pm   0.163015  0.027760  \n",
              "Humidity9am   -0.471340 -0.498399  \n",
              "Humidity3pm   -0.221024 -0.557838  \n",
              "Pressure9am   -0.422533 -0.286754  \n",
              "Pressure3pm   -0.470170 -0.389535  \n",
              "Cloud9am      -0.136937 -0.302046  \n",
              "Cloud3pm      -0.126703 -0.317430  \n",
              "Temp9am        1.000000  0.860599  \n",
              "Temp3pm        0.860599  1.000000  "
            ],
            "text/html": [
              "\n",
              "  <div id=\"df-6df597d8-64ab-427d-a583-d357e8f6b5d6\">\n",
              "    <div class=\"colab-df-container\">\n",
              "      <div>\n",
              "<style scoped>\n",
              "    .dataframe tbody tr th:only-of-type {\n",
              "        vertical-align: middle;\n",
              "    }\n",
              "\n",
              "    .dataframe tbody tr th {\n",
              "        vertical-align: top;\n",
              "    }\n",
              "\n",
              "    .dataframe thead th {\n",
              "        text-align: right;\n",
              "    }\n",
              "</style>\n",
              "<table border=\"1\" class=\"dataframe\">\n",
              "  <thead>\n",
              "    <tr style=\"text-align: right;\">\n",
              "      <th></th>\n",
              "      <th>MinTemp</th>\n",
              "      <th>MaxTemp</th>\n",
              "      <th>Rainfall</th>\n",
              "      <th>Evaporation</th>\n",
              "      <th>Sunshine</th>\n",
              "      <th>WindGustSpeed</th>\n",
              "      <th>WindSpeed9am</th>\n",
              "      <th>WindSpeed3pm</th>\n",
              "      <th>Humidity9am</th>\n",
              "      <th>Humidity3pm</th>\n",
              "      <th>Pressure9am</th>\n",
              "      <th>Pressure3pm</th>\n",
              "      <th>Cloud9am</th>\n",
              "      <th>Cloud3pm</th>\n",
              "      <th>Temp9am</th>\n",
              "      <th>Temp3pm</th>\n",
              "    </tr>\n",
              "  </thead>\n",
              "  <tbody>\n",
              "    <tr>\n",
              "      <th>MinTemp</th>\n",
              "      <td>1.000000</td>\n",
              "      <td>0.736559</td>\n",
              "      <td>0.103938</td>\n",
              "      <td>0.466993</td>\n",
              "      <td>0.072586</td>\n",
              "      <td>0.177397</td>\n",
              "      <td>0.175049</td>\n",
              "      <td>0.175166</td>\n",
              "      <td>-0.232877</td>\n",
              "      <td>0.006082</td>\n",
              "      <td>-0.450954</td>\n",
              "      <td>-0.461280</td>\n",
              "      <td>0.078773</td>\n",
              "      <td>0.021557</td>\n",
              "      <td>0.901820</td>\n",
              "      <td>0.708918</td>\n",
              "    </tr>\n",
              "    <tr>\n",
              "      <th>MaxTemp</th>\n",
              "      <td>0.736559</td>\n",
              "      <td>1.000000</td>\n",
              "      <td>-0.074997</td>\n",
              "      <td>0.587932</td>\n",
              "      <td>0.470156</td>\n",
              "      <td>0.067591</td>\n",
              "      <td>0.014433</td>\n",
              "      <td>0.050285</td>\n",
              "      <td>-0.504103</td>\n",
              "      <td>-0.508860</td>\n",
              "      <td>-0.332044</td>\n",
              "      <td>-0.427154</td>\n",
              "      <td>-0.289353</td>\n",
              "      <td>-0.277944</td>\n",
              "      <td>0.887212</td>\n",
              "      <td>0.984505</td>\n",
              "    </tr>\n",
              "    <tr>\n",
              "      <th>Rainfall</th>\n",
              "      <td>0.103938</td>\n",
              "      <td>-0.074997</td>\n",
              "      <td>1.000000</td>\n",
              "      <td>-0.064351</td>\n",
              "      <td>-0.227549</td>\n",
              "      <td>0.133651</td>\n",
              "      <td>0.087330</td>\n",
              "      <td>0.057878</td>\n",
              "      <td>0.224414</td>\n",
              "      <td>0.255771</td>\n",
              "      <td>-0.168148</td>\n",
              "      <td>-0.126526</td>\n",
              "      <td>0.198541</td>\n",
              "      <td>0.172409</td>\n",
              "      <td>0.011187</td>\n",
              "      <td>-0.079662</td>\n",
              "    </tr>\n",
              "    <tr>\n",
              "      <th>Evaporation</th>\n",
              "      <td>0.466993</td>\n",
              "      <td>0.587932</td>\n",
              "      <td>-0.064351</td>\n",
              "      <td>1.000000</td>\n",
              "      <td>0.365602</td>\n",
              "      <td>0.203021</td>\n",
              "      <td>0.193084</td>\n",
              "      <td>0.129400</td>\n",
              "      <td>-0.504092</td>\n",
              "      <td>-0.390243</td>\n",
              "      <td>-0.270362</td>\n",
              "      <td>-0.293581</td>\n",
              "      <td>-0.183793</td>\n",
              "      <td>-0.182618</td>\n",
              "      <td>0.545115</td>\n",
              "      <td>0.572893</td>\n",
              "    </tr>\n",
              "    <tr>\n",
              "      <th>Sunshine</th>\n",
              "      <td>0.072586</td>\n",
              "      <td>0.470156</td>\n",
              "      <td>-0.227549</td>\n",
              "      <td>0.365602</td>\n",
              "      <td>1.000000</td>\n",
              "      <td>-0.034750</td>\n",
              "      <td>0.005499</td>\n",
              "      <td>0.053834</td>\n",
              "      <td>-0.490819</td>\n",
              "      <td>-0.629130</td>\n",
              "      <td>0.041970</td>\n",
              "      <td>-0.019719</td>\n",
              "      <td>-0.675323</td>\n",
              "      <td>-0.703930</td>\n",
              "      <td>0.291188</td>\n",
              "      <td>0.490501</td>\n",
              "    </tr>\n",
              "    <tr>\n",
              "      <th>WindGustSpeed</th>\n",
              "      <td>0.177397</td>\n",
              "      <td>0.067591</td>\n",
              "      <td>0.133651</td>\n",
              "      <td>0.203021</td>\n",
              "      <td>-0.034750</td>\n",
              "      <td>1.000000</td>\n",
              "      <td>0.605291</td>\n",
              "      <td>0.686302</td>\n",
              "      <td>-0.215049</td>\n",
              "      <td>-0.026293</td>\n",
              "      <td>-0.458712</td>\n",
              "      <td>-0.413717</td>\n",
              "      <td>0.071789</td>\n",
              "      <td>0.109144</td>\n",
              "      <td>0.150125</td>\n",
              "      <td>0.032726</td>\n",
              "    </tr>\n",
              "    <tr>\n",
              "      <th>WindSpeed9am</th>\n",
              "      <td>0.175049</td>\n",
              "      <td>0.014433</td>\n",
              "      <td>0.087330</td>\n",
              "      <td>0.193084</td>\n",
              "      <td>0.005499</td>\n",
              "      <td>0.605291</td>\n",
              "      <td>1.000000</td>\n",
              "      <td>0.519539</td>\n",
              "      <td>-0.270841</td>\n",
              "      <td>-0.031587</td>\n",
              "      <td>-0.228710</td>\n",
              "      <td>-0.175782</td>\n",
              "      <td>0.025156</td>\n",
              "      <td>0.054603</td>\n",
              "      <td>0.128525</td>\n",
              "      <td>0.004555</td>\n",
              "    </tr>\n",
              "    <tr>\n",
              "      <th>WindSpeed3pm</th>\n",
              "      <td>0.175166</td>\n",
              "      <td>0.050285</td>\n",
              "      <td>0.057878</td>\n",
              "      <td>0.129400</td>\n",
              "      <td>0.053834</td>\n",
              "      <td>0.686302</td>\n",
              "      <td>0.519539</td>\n",
              "      <td>1.000000</td>\n",
              "      <td>-0.145510</td>\n",
              "      <td>0.016468</td>\n",
              "      <td>-0.296319</td>\n",
              "      <td>-0.255404</td>\n",
              "      <td>0.053373</td>\n",
              "      <td>0.025397</td>\n",
              "      <td>0.163015</td>\n",
              "      <td>0.027760</td>\n",
              "    </tr>\n",
              "    <tr>\n",
              "      <th>Humidity9am</th>\n",
              "      <td>-0.232877</td>\n",
              "      <td>-0.504103</td>\n",
              "      <td>0.224414</td>\n",
              "      <td>-0.504092</td>\n",
              "      <td>-0.490819</td>\n",
              "      <td>-0.215049</td>\n",
              "      <td>-0.270841</td>\n",
              "      <td>-0.145510</td>\n",
              "      <td>1.000000</td>\n",
              "      <td>0.666965</td>\n",
              "      <td>0.139409</td>\n",
              "      <td>0.186832</td>\n",
              "      <td>0.452274</td>\n",
              "      <td>0.357379</td>\n",
              "      <td>-0.471340</td>\n",
              "      <td>-0.498399</td>\n",
              "    </tr>\n",
              "    <tr>\n",
              "      <th>Humidity3pm</th>\n",
              "      <td>0.006082</td>\n",
              "      <td>-0.508860</td>\n",
              "      <td>0.255771</td>\n",
              "      <td>-0.390243</td>\n",
              "      <td>-0.629130</td>\n",
              "      <td>-0.026293</td>\n",
              "      <td>-0.031587</td>\n",
              "      <td>0.016468</td>\n",
              "      <td>0.666965</td>\n",
              "      <td>1.000000</td>\n",
              "      <td>-0.027580</td>\n",
              "      <td>0.051963</td>\n",
              "      <td>0.517100</td>\n",
              "      <td>0.523125</td>\n",
              "      <td>-0.221024</td>\n",
              "      <td>-0.557838</td>\n",
              "    </tr>\n",
              "    <tr>\n",
              "      <th>Pressure9am</th>\n",
              "      <td>-0.450954</td>\n",
              "      <td>-0.332044</td>\n",
              "      <td>-0.168148</td>\n",
              "      <td>-0.270362</td>\n",
              "      <td>0.041970</td>\n",
              "      <td>-0.458712</td>\n",
              "      <td>-0.228710</td>\n",
              "      <td>-0.296319</td>\n",
              "      <td>0.139409</td>\n",
              "      <td>-0.027580</td>\n",
              "      <td>1.000000</td>\n",
              "      <td>0.961324</td>\n",
              "      <td>-0.129843</td>\n",
              "      <td>-0.147840</td>\n",
              "      <td>-0.422533</td>\n",
              "      <td>-0.286754</td>\n",
              "    </tr>\n",
              "    <tr>\n",
              "      <th>Pressure3pm</th>\n",
              "      <td>-0.461280</td>\n",
              "      <td>-0.427154</td>\n",
              "      <td>-0.126526</td>\n",
              "      <td>-0.293581</td>\n",
              "      <td>-0.019719</td>\n",
              "      <td>-0.413717</td>\n",
              "      <td>-0.175782</td>\n",
              "      <td>-0.255404</td>\n",
              "      <td>0.186832</td>\n",
              "      <td>0.051963</td>\n",
              "      <td>0.961324</td>\n",
              "      <td>1.000000</td>\n",
              "      <td>-0.060813</td>\n",
              "      <td>-0.084763</td>\n",
              "      <td>-0.470170</td>\n",
              "      <td>-0.389535</td>\n",
              "    </tr>\n",
              "    <tr>\n",
              "      <th>Cloud9am</th>\n",
              "      <td>0.078773</td>\n",
              "      <td>-0.289353</td>\n",
              "      <td>0.198541</td>\n",
              "      <td>-0.183793</td>\n",
              "      <td>-0.675323</td>\n",
              "      <td>0.071789</td>\n",
              "      <td>0.025156</td>\n",
              "      <td>0.053373</td>\n",
              "      <td>0.452274</td>\n",
              "      <td>0.517100</td>\n",
              "      <td>-0.129843</td>\n",
              "      <td>-0.060813</td>\n",
              "      <td>1.000000</td>\n",
              "      <td>0.603588</td>\n",
              "      <td>-0.136937</td>\n",
              "      <td>-0.302046</td>\n",
              "    </tr>\n",
              "    <tr>\n",
              "      <th>Cloud3pm</th>\n",
              "      <td>0.021557</td>\n",
              "      <td>-0.277944</td>\n",
              "      <td>0.172409</td>\n",
              "      <td>-0.182618</td>\n",
              "      <td>-0.703930</td>\n",
              "      <td>0.109144</td>\n",
              "      <td>0.054603</td>\n",
              "      <td>0.025397</td>\n",
              "      <td>0.357379</td>\n",
              "      <td>0.523125</td>\n",
              "      <td>-0.147840</td>\n",
              "      <td>-0.084763</td>\n",
              "      <td>0.603588</td>\n",
              "      <td>1.000000</td>\n",
              "      <td>-0.126703</td>\n",
              "      <td>-0.317430</td>\n",
              "    </tr>\n",
              "    <tr>\n",
              "      <th>Temp9am</th>\n",
              "      <td>0.901820</td>\n",
              "      <td>0.887212</td>\n",
              "      <td>0.011187</td>\n",
              "      <td>0.545115</td>\n",
              "      <td>0.291188</td>\n",
              "      <td>0.150125</td>\n",
              "      <td>0.128525</td>\n",
              "      <td>0.163015</td>\n",
              "      <td>-0.471340</td>\n",
              "      <td>-0.221024</td>\n",
              "      <td>-0.422533</td>\n",
              "      <td>-0.470170</td>\n",
              "      <td>-0.136937</td>\n",
              "      <td>-0.126703</td>\n",
              "      <td>1.000000</td>\n",
              "      <td>0.860599</td>\n",
              "    </tr>\n",
              "    <tr>\n",
              "      <th>Temp3pm</th>\n",
              "      <td>0.708918</td>\n",
              "      <td>0.984505</td>\n",
              "      <td>-0.079662</td>\n",
              "      <td>0.572893</td>\n",
              "      <td>0.490501</td>\n",
              "      <td>0.032726</td>\n",
              "      <td>0.004555</td>\n",
              "      <td>0.027760</td>\n",
              "      <td>-0.498399</td>\n",
              "      <td>-0.557838</td>\n",
              "      <td>-0.286754</td>\n",
              "      <td>-0.389535</td>\n",
              "      <td>-0.302046</td>\n",
              "      <td>-0.317430</td>\n",
              "      <td>0.860599</td>\n",
              "      <td>1.000000</td>\n",
              "    </tr>\n",
              "  </tbody>\n",
              "</table>\n",
              "</div>\n",
              "      <button class=\"colab-df-convert\" onclick=\"convertToInteractive('df-6df597d8-64ab-427d-a583-d357e8f6b5d6')\"\n",
              "              title=\"Convert this dataframe to an interactive table.\"\n",
              "              style=\"display:none;\">\n",
              "        \n",
              "  <svg xmlns=\"http://www.w3.org/2000/svg\" height=\"24px\"viewBox=\"0 0 24 24\"\n",
              "       width=\"24px\">\n",
              "    <path d=\"M0 0h24v24H0V0z\" fill=\"none\"/>\n",
              "    <path d=\"M18.56 5.44l.94 2.06.94-2.06 2.06-.94-2.06-.94-.94-2.06-.94 2.06-2.06.94zm-11 1L8.5 8.5l.94-2.06 2.06-.94-2.06-.94L8.5 2.5l-.94 2.06-2.06.94zm10 10l.94 2.06.94-2.06 2.06-.94-2.06-.94-.94-2.06-.94 2.06-2.06.94z\"/><path d=\"M17.41 7.96l-1.37-1.37c-.4-.4-.92-.59-1.43-.59-.52 0-1.04.2-1.43.59L10.3 9.45l-7.72 7.72c-.78.78-.78 2.05 0 2.83L4 21.41c.39.39.9.59 1.41.59.51 0 1.02-.2 1.41-.59l7.78-7.78 2.81-2.81c.8-.78.8-2.07 0-2.86zM5.41 20L4 18.59l7.72-7.72 1.47 1.35L5.41 20z\"/>\n",
              "  </svg>\n",
              "      </button>\n",
              "      \n",
              "  <style>\n",
              "    .colab-df-container {\n",
              "      display:flex;\n",
              "      flex-wrap:wrap;\n",
              "      gap: 12px;\n",
              "    }\n",
              "\n",
              "    .colab-df-convert {\n",
              "      background-color: #E8F0FE;\n",
              "      border: none;\n",
              "      border-radius: 50%;\n",
              "      cursor: pointer;\n",
              "      display: none;\n",
              "      fill: #1967D2;\n",
              "      height: 32px;\n",
              "      padding: 0 0 0 0;\n",
              "      width: 32px;\n",
              "    }\n",
              "\n",
              "    .colab-df-convert:hover {\n",
              "      background-color: #E2EBFA;\n",
              "      box-shadow: 0px 1px 2px rgba(60, 64, 67, 0.3), 0px 1px 3px 1px rgba(60, 64, 67, 0.15);\n",
              "      fill: #174EA6;\n",
              "    }\n",
              "\n",
              "    [theme=dark] .colab-df-convert {\n",
              "      background-color: #3B4455;\n",
              "      fill: #D2E3FC;\n",
              "    }\n",
              "\n",
              "    [theme=dark] .colab-df-convert:hover {\n",
              "      background-color: #434B5C;\n",
              "      box-shadow: 0px 1px 3px 1px rgba(0, 0, 0, 0.15);\n",
              "      filter: drop-shadow(0px 1px 2px rgba(0, 0, 0, 0.3));\n",
              "      fill: #FFFFFF;\n",
              "    }\n",
              "  </style>\n",
              "\n",
              "      <script>\n",
              "        const buttonEl =\n",
              "          document.querySelector('#df-6df597d8-64ab-427d-a583-d357e8f6b5d6 button.colab-df-convert');\n",
              "        buttonEl.style.display =\n",
              "          google.colab.kernel.accessAllowed ? 'block' : 'none';\n",
              "\n",
              "        async function convertToInteractive(key) {\n",
              "          const element = document.querySelector('#df-6df597d8-64ab-427d-a583-d357e8f6b5d6');\n",
              "          const dataTable =\n",
              "            await google.colab.kernel.invokeFunction('convertToInteractive',\n",
              "                                                     [key], {});\n",
              "          if (!dataTable) return;\n",
              "\n",
              "          const docLinkHtml = 'Like what you see? Visit the ' +\n",
              "            '<a target=\"_blank\" href=https://colab.research.google.com/notebooks/data_table.ipynb>data table notebook</a>'\n",
              "            + ' to learn more about interactive tables.';\n",
              "          element.innerHTML = '';\n",
              "          dataTable['output_type'] = 'display_data';\n",
              "          await google.colab.output.renderOutput(dataTable, element);\n",
              "          const docLink = document.createElement('div');\n",
              "          docLink.innerHTML = docLinkHtml;\n",
              "          element.appendChild(docLink);\n",
              "        }\n",
              "      </script>\n",
              "    </div>\n",
              "  </div>\n",
              "  "
            ]
          },
          "metadata": {},
          "execution_count": 5
        }
      ],
      "source": [
        "data.corr()"
      ]
    },
    {
      "cell_type": "code",
      "execution_count": null,
      "metadata": {
        "colab": {
          "base_uri": "https://localhost:8080/"
        },
        "id": "hjvpvBLPYg48",
        "outputId": "1ae7a0c3-4645-4c31-e6f0-adfec567c4d6"
      },
      "outputs": [
        {
          "output_type": "execute_result",
          "data": {
            "text/plain": [
              "10    145452\n",
              "Name: Date, dtype: int64"
            ]
          },
          "metadata": {},
          "execution_count": 6
        }
      ],
      "source": [
        "lengths=data[\"Date\"].str.len()\n",
        "lengths.value_counts()"
      ]
    },
    {
      "cell_type": "code",
      "execution_count": null,
      "metadata": {
        "id": "n9nWglb5Y64Y"
      },
      "outputs": [],
      "source": [
        "data['Date']=pd.to_datetime(data[\"Date\"])\n",
        "data['year']=data.Date.dt.year\n",
        "def encode(data_set,col,max_val):\n",
        "  data[col+'_sin']=np.sin(2*np.pi*data[col]/max_val)\n",
        "  data[col+'_cos']=np.cos(2*np.pi*data[col]/max_val)\n",
        "  return data\n",
        "data['month']=data.Date.dt.month\n",
        "data=encode(data,'month',12)\n",
        "data['day']=data.Date.dt.month\n",
        "data=encode(data,'day',31)\n"
      ]
    },
    {
      "cell_type": "code",
      "source": [
        "s=(data.dtypes=='object')\n",
        "object_cols=list(s[s].index)\n",
        "print(\"categorical variables:\")\n",
        "print(object_cols)"
      ],
      "metadata": {
        "colab": {
          "base_uri": "https://localhost:8080/"
        },
        "id": "h_twoGe3fxtV",
        "outputId": "927e30bc-8269-49a5-a476-d4c876603fed"
      },
      "execution_count": null,
      "outputs": [
        {
          "output_type": "stream",
          "name": "stdout",
          "text": [
            "categorical variables:\n",
            "['Location', 'WindGustDir', 'WindDir9am', 'WindDir3pm', 'RainToday', 'RainTomorrow']\n"
          ]
        }
      ]
    },
    {
      "cell_type": "code",
      "execution_count": null,
      "metadata": {
        "id": "fUBnAdTKif4y"
      },
      "outputs": [],
      "source": [
        "import datetime\n",
        "from sklearn import preprocessing\n",
        "from sklearn.preprocessing import LabelEncoder\n",
        "from sklearn.preprocessing import StandardScaler\n",
        "from sklearn.metrics import precision_score,recall_score,classification_report, confusion_matrix\n",
        "from keras.layers import Dense,BatchNormalization,Dropout,LSTM\n",
        "from keras.models import Sequential\n",
        "from keras import callbacks\n",
        "from keras.callbacks import EarlyStopping\n",
        "from tensorflow.keras.optimizers import Adam\n",
        "from tensorflow.keras.utils import to_categorical\n",
        "from tensorflow.keras import regularizers"
      ]
    },
    {
      "cell_type": "code",
      "execution_count": null,
      "metadata": {
        "id": "Abdv6wexIqyq"
      },
      "outputs": [],
      "source": [
        "label_encoder=LabelEncoder()\n",
        "for i in object_cols:\n",
        "    data[i]=label_encoder.fit_transform(data[i])"
      ]
    },
    {
      "cell_type": "code",
      "execution_count": null,
      "metadata": {
        "id": "B0StJAkzoypa"
      },
      "outputs": [],
      "source": [
        "features=data.drop(['RainTomorrow','Date','day','month'],axis=1)\n",
        "target=data['RainTomorrow']\n",
        "col_names=list(features.columns)\n",
        "s_scaler=preprocessing.StandardScaler()\n",
        "features=s_scaler.fit_transform(features)\n",
        "features=pd.DataFrame(features,columns=col_names)\n",
        "\n"
      ]
    },
    {
      "cell_type": "code",
      "execution_count": null,
      "metadata": {
        "colab": {
          "base_uri": "https://localhost:8080/"
        },
        "id": "8vwj9k9VK29Y",
        "outputId": "53f71d03-84f3-4ac2-ee3b-41e9d2d05514"
      },
      "outputs": [
        {
          "output_type": "execute_result",
          "data": {
            "text/plain": [
              "(52851, 27)"
            ]
          },
          "metadata": {},
          "execution_count": 12
        }
      ],
      "source": [
        "features[\"RainTomorrow\"]=target\n",
        "features=features[(features[\"MinTemp\"]<2.3)&(features[\"MinTemp\"]>-2.3)]\n",
        "features=features[(features[\"MaxTemp\"]<2.3)&(features[\"MaxTemp\"]>-2)]\n",
        "features=features[(features[\"Rainfall\"]<4.5)]\n",
        "features=features[(features[\"Evaporation\"]<2.8)]\n",
        "features=features[(features[\"Sunshine\"]<2.1)]\n",
        "features=features[(features[\"WindGustSpeed\"]<4)&(features[\"WindGustSpeed\"]>-4)]\n",
        "features=features[(features[\"WindSpeed9am\"]<4)]\n",
        "features=features[(features[\"WindSpeed3pm\"]<2.5)]\n",
        "features=features[(features[\"Humidity9am\"]>-3)]\n",
        "features=features[(features[\"Humidity3pm\"]>-2.2)]\n",
        "features=features[(features[\"Pressure9am\"]<2)&(features[\"Pressure9am\"]>-2.7)]\n",
        "features=features[(features[\"Pressure3pm\"]<2)&(features[\"Pressure3pm\"]>-2.7)]\n",
        "features=features[(features[\"Cloud9am\"]<1.8)]\n",
        "features=features[(features[\"Cloud3pm\"]<2)]\n",
        "features=features[(features[\"Temp9am\"]<2.3)&(features[\"Temp9am\"]>-2)]\n",
        "features=features[(features[\"Temp3pm\"]<2.3)&(features[\"Temp3pm\"]>-2)]\n",
        "features.shape"
      ]
    },
    {
      "cell_type": "code",
      "execution_count": null,
      "metadata": {
        "colab": {
          "base_uri": "https://localhost:8080/"
        },
        "id": "ZxpkvXVvTp_5",
        "outputId": "a5840637-183a-4e18-efe5-531cf91784d9"
      },
      "outputs": [
        {
          "output_type": "stream",
          "name": "stdout",
          "text": [
            "shape of the training data: (42280, 26)\n",
            "shape of the testing data: (10571, 26)\n"
          ]
        },
        {
          "output_type": "execute_result",
          "data": {
            "text/plain": [
              "(52851, 26)"
            ]
          },
          "metadata": {},
          "execution_count": 13
        }
      ],
      "source": [
        "x=features.drop([\"RainTomorrow\"],axis=1)\n",
        "y=features[\"RainTomorrow\"]\n",
        "x_train,x_test,y_train,y_test=train_test_split(x,y,test_size=0.2,random_state=325)\n",
        "print(\"shape of the training data:\",x_train.shape)\n",
        "print(\"shape of the testing data:\",x_test.shape)\n",
        "x.shape"
      ]
    },
    {
      "cell_type": "code",
      "execution_count": null,
      "metadata": {
        "id": "wQx2GqWgV7qF"
      },
      "outputs": [],
      "source": [
        "early_stopping=callbacks.EarlyStopping(\n",
        "    min_delta=0.001,\n",
        "    patience=20,\n",
        "    restore_best_weights=True,\n",
        ")"
      ]
    },
    {
      "cell_type": "code",
      "execution_count": null,
      "metadata": {
        "id": "1VyHzuklWZNZ",
        "colab": {
          "base_uri": "https://localhost:8080/"
        },
        "outputId": "b8e9dc0c-cd47-494e-ec49-fac4ce0f8e20"
      },
      "outputs": [
        {
          "output_type": "execute_result",
          "data": {
            "text/plain": [
              "(None,)"
            ]
          },
          "metadata": {},
          "execution_count": 15
        }
      ],
      "source": [
        "model=Sequential()\n",
        "model.add(Dense(units=32,kernel_initializer='uniform',activation='relu',input_dim=26)),\n",
        "model.add(Dense(units=32,kernel_initializer='uniform',activation='relu')),\n",
        "model.add(Dense(units=16,kernel_initializer='uniform',activation='relu')),\n",
        "model.add(Dropout(0.25)),\n",
        "model.add(Dense(units=8,kernel_initializer='uniform',activation='relu')),\n",
        "model.add(Dropout(0.5)),\n",
        "model.add(Dense(units=1,kernel_initializer='uniform',activation='relu')),\n"
      ]
    },
    {
      "cell_type": "markdown",
      "source": [
        "TRAINING OF THE MODEL"
      ],
      "metadata": {
        "id": "1fVlPhKGIpHw"
      }
    },
    {
      "cell_type": "code",
      "source": [
        "opt=Adam(learning_rate=0.00009),\n",
        "model.compile(optimizer='adam',loss='binary_crossentropy',metrics='accuracy'),\n",
        "history=model.fit(x_train,y_train,batch_size=16,epochs=3,callbacks=[early_stopping],validation_split=0.2)"
      ],
      "metadata": {
        "id": "aFW9uQmaHJpB",
        "colab": {
          "base_uri": "https://localhost:8080/"
        },
        "outputId": "3a69bf1e-f3a8-4706-d9ce-9ec8845f3b99"
      },
      "execution_count": null,
      "outputs": [
        {
          "output_type": "stream",
          "name": "stdout",
          "text": [
            "Epoch 1/3\n",
            "2114/2114 [==============================] - 8s 3ms/step - loss: 0.3947 - accuracy: 0.8408 - val_loss: 0.3650 - val_accuracy: 0.8373\n",
            "Epoch 2/3\n",
            "2114/2114 [==============================] - 5s 2ms/step - loss: 0.3936 - accuracy: 0.8382 - val_loss: 0.3973 - val_accuracy: 0.7998\n",
            "Epoch 3/3\n",
            "2114/2114 [==============================] - 5s 2ms/step - loss: 0.3952 - accuracy: 0.8308 - val_loss: 0.3932 - val_accuracy: 0.8464\n"
          ]
        }
      ]
    },
    {
      "cell_type": "code",
      "execution_count": null,
      "metadata": {
        "id": "xq1Mb09eORYX"
      },
      "outputs": [],
      "source": [
        "y_pred=model.predict(x_test)\n",
        "y_pred=(y_pred>0.5)"
      ]
    },
    {
      "cell_type": "code",
      "source": [
        "y_pred"
      ],
      "metadata": {
        "id": "BGAb2oIfR7OY",
        "outputId": "5a13a819-31f9-44e4-cd48-72f23286f4c1",
        "colab": {
          "base_uri": "https://localhost:8080/"
        }
      },
      "execution_count": null,
      "outputs": [
        {
          "output_type": "execute_result",
          "data": {
            "text/plain": [
              "array([[False],\n",
              "       [False],\n",
              "       [False],\n",
              "       ...,\n",
              "       [False],\n",
              "       [False],\n",
              "       [ True]])"
            ]
          },
          "metadata": {},
          "execution_count": 67
        }
      ]
    },
    {
      "cell_type": "code",
      "source": [
        "df=pd.DataFrame(history.history)\n",
        "plt.plot(df.loc[:,['loss']],\"#313abd\",label='Training loss')\n",
        "plt.plot(df.loc[:,['val_loss']],\"#a61e98\",label='Validation loss')\n",
        "plt.title('Training & Validation loss')\n",
        "plt.xlabel('Epochs')\n",
        "plt.ylabel('Loss')\n",
        "plt.legend(loc=\"best\")\n",
        "plt.show()"
      ],
      "metadata": {
        "colab": {
          "base_uri": "https://localhost:8080/",
          "height": 295
        },
        "id": "hHNXrQxCJmDz",
        "outputId": "34d1d19c-9ff4-4d08-ca74-364988a99484"
      },
      "execution_count": null,
      "outputs": [
        {
          "output_type": "display_data",
          "data": {
            "text/plain": [
              "<Figure size 432x288 with 1 Axes>"
            ],
            "image/png": "[encoded data removed]"
          },
          "metadata": {
            "needs_background": "light"
          }
        }
      ]
    },
    {
      "cell_type": "code",
      "source": [
        "df=pd.DataFrame(history.history)\n",
        "plt.plot(df.loc[:,['accuracy']],\"#313abd\",label='Training accuracy')\n",
        "plt.plot(df.loc[:,['val_accuracy']],\"#a61e98\",label='Validation accuracy')\n",
        "plt.title('Training & Validation accuracy')\n",
        "plt.xlabel('Epochs')\n",
        "plt.ylabel('Accuracy')\n",
        "plt.legend(loc=\"best\")\n",
        "plt.show()"
      ],
      "metadata": {
        "colab": {
          "base_uri": "https://localhost:8080/",
          "height": 295
        },
        "id": "8fg-z2RzJtSL",
        "outputId": "c52b2c51-6df8-4371-ebfa-e580845bbd95"
      },
      "execution_count": null,
      "outputs": [
        {
          "output_type": "display_data",
          "data": {
            "text/plain": [
              "<Figure size 432x288 with 1 Axes>"
            ],
            "image/png": "[encoded data removed]"
          },
          "metadata": {
            "needs_background": "light"
          }
        }
      ]
    },
    {
      "cell_type": "code",
      "source": [
        "print(classification_report(y_test,y_pred))"
      ],
      "metadata": {
        "colab": {
          "base_uri": "https://localhost:8080/"
        },
        "id": "EPUcESOKXcTW",
        "outputId": "f1d88c23-879d-4678-e585-fbb5de2f9ff0"
      },
      "execution_count": null,
      "outputs": [
        {
          "output_type": "stream",
          "name": "stdout",
          "text": [
            "              precision    recall  f1-score   support\n",
            "\n",
            "           0       0.87      0.96      0.91      8289\n",
            "           1       0.76      0.46      0.58      2260\n",
            "           2       0.00      0.00      0.00        22\n",
            "\n",
            "    accuracy                           0.85     10571\n",
            "   macro avg       0.54      0.47      0.50     10571\n",
            "weighted avg       0.84      0.85      0.84     10571\n",
            "\n"
          ]
        }
      ]
    }
  ],
  "metadata": {
    "colab": {
      "provenance": [],
      "include_colab_link": true
    },
    "kernelspec": {
      "display_name": "Python 3",
      "name": "python3"
    },
    "language_info": {
      "name": "python"
    }
  },
  "nbformat": 4,
  "nbformat_minor": 0
}